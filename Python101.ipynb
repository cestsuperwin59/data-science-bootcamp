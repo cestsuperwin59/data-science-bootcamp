{
  "nbformat": 4,
  "nbformat_minor": 0,
  "metadata": {
    "colab": {
      "provenance": [],
      "authorship_tag": "ABX9TyPfuF7wmgCguMOL90NzOfV6",
      "include_colab_link": true
    },
    "kernelspec": {
      "name": "python3",
      "display_name": "Python 3"
    },
    "language_info": {
      "name": "python"
    }
  },
  "cells": [
    {
      "cell_type": "markdown",
      "metadata": {
        "id": "view-in-github",
        "colab_type": "text"
      },
      "source": [
        "<a href=\"https://colab.research.google.com/github/cestsuperwin59/data-science-bootcamp/blob/main/Python101.ipynb\" target=\"_parent\"><img src=\"https://colab.research.google.com/assets/colab-badge.svg\" alt=\"Open In Colab\"/></a>"
      ]
    },
    {
      "cell_type": "markdown",
      "source": [
        "# **Essential Python 101**\n",
        "\n",
        "*   variables\n",
        "*   data types\n",
        "*  data structure\n",
        "* function\n",
        "*   control flow\n",
        "*   oop\n",
        "\n",
        "\n",
        "\n",
        "\n",
        "\n",
        "\n",
        "\n"
      ],
      "metadata": {
        "id": "FVKOGXrqgp7j"
      }
    },
    {
      "cell_type": "code",
      "source": [
        "# comment\n",
        "1+1\n",
        "print(7//2) #floor division\n",
        "print(7/2)\n",
        "pow(5, 3)\n",
        "abs(-666)\n",
        "#modulo\n",
        "5%2"
      ],
      "metadata": {
        "colab": {
          "base_uri": "https://localhost:8080/"
        },
        "id": "NuK4gJNHi-0G",
        "outputId": "4d9e4e92-141c-4ee1-d58e-eb95aec58ff0"
      },
      "execution_count": null,
      "outputs": [
        {
          "output_type": "stream",
          "name": "stdout",
          "text": [
            "3\n",
            "3.5\n"
          ]
        },
        {
          "output_type": "execute_result",
          "data": {
            "text/plain": [
              "1"
            ]
          },
          "metadata": {},
          "execution_count": 5
        }
      ]
    },
    {
      "cell_type": "code",
      "source": [
        "#assign a varible\n",
        "my_name = \"toy\"\n",
        "age = 34\n",
        "movie_lover = True #False"
      ],
      "metadata": {
        "id": "XTNDCxQ9jgMp"
      },
      "execution_count": null,
      "outputs": []
    },
    {
      "cell_type": "code",
      "source": [
        "print(age, movie_lover)"
      ],
      "metadata": {
        "colab": {
          "base_uri": "https://localhost:8080/"
        },
        "id": "JufhybMTnotv",
        "outputId": "e7e08293-0ad9-4ca2-ddbd-9e7d8c52bbc9"
      },
      "execution_count": null,
      "outputs": [
        {
          "output_type": "stream",
          "name": "stdout",
          "text": [
            "34 True\n"
          ]
        }
      ]
    },
    {
      "cell_type": "code",
      "source": [
        "s23_price = 30000\n",
        "discount = 0.15\n",
        "new_price = s23_price * (1- discount)\n",
        "\n",
        "print(new_price)"
      ],
      "metadata": {
        "colab": {
          "base_uri": "https://localhost:8080/"
        },
        "id": "f736a02Kpalt",
        "outputId": "44b3dd77-ad46-493d-f7c8-527b428f4427"
      },
      "execution_count": null,
      "outputs": [
        {
          "output_type": "stream",
          "name": "stdout",
          "text": [
            "25500.0\n"
          ]
        }
      ]
    },
    {
      "cell_type": "code",
      "source": [
        "#remove variable\n",
        "del s23_price"
      ],
      "metadata": {
        "id": "7t0OADbJnuFG"
      },
      "execution_count": null,
      "outputs": []
    },
    {
      "cell_type": "code",
      "source": [
        "#count variable\n",
        "age = 34\n",
        "age += 1\n",
        "age += 1\n",
        "age += 1\n",
        "age -= 2\n",
        "age *= 2\n",
        "age /= 3\n",
        "print(age)"
      ],
      "metadata": {
        "colab": {
          "base_uri": "https://localhost:8080/"
        },
        "id": "BcQalUJiptc-",
        "outputId": "fe7bab89-791a-45f6-e245-ae9207b4b2a6"
      },
      "execution_count": null,
      "outputs": [
        {
          "output_type": "stream",
          "name": "stdout",
          "text": [
            "23.333333333333332\n"
          ]
        }
      ]
    },
    {
      "cell_type": "code",
      "source": [
        "#data types\n",
        "#int float str bool"
      ],
      "metadata": {
        "id": "OxT1nvRPqSJf"
      },
      "execution_count": null,
      "outputs": []
    },
    {
      "cell_type": "code",
      "source": [
        "age = 34\n",
        "gpa = 3.41\n",
        "school = \"kmitl\"\n",
        "movie_lover = True"
      ],
      "metadata": {
        "id": "5yD6PlZEqt22"
      },
      "execution_count": null,
      "outputs": []
    },
    {
      "cell_type": "code",
      "source": [
        "print( type(age))\n",
        "print( type(gpa))\n",
        "print( type(school))\n",
        "print( type(movie_lover))"
      ],
      "metadata": {
        "colab": {
          "base_uri": "https://localhost:8080/"
        },
        "id": "x--3DmN1q5Fg",
        "outputId": "55a31d02-8ea3-485b-aab7-e547fd12ea8b"
      },
      "execution_count": null,
      "outputs": [
        {
          "output_type": "stream",
          "name": "stdout",
          "text": [
            "<class 'int'>\n",
            "<class 'float'>\n",
            "<class 'str'>\n",
            "<class 'bool'>\n"
          ]
        }
      ]
    },
    {
      "cell_type": "code",
      "source": [
        "#convert type\n",
        "x = 100\n",
        "x = str(x) #convert to string\n",
        "print(x, type(x))"
      ],
      "metadata": {
        "colab": {
          "base_uri": "https://localhost:8080/"
        },
        "id": "F49U9P72rae1",
        "outputId": "bb1cc958-fd8f-468b-df8c-cdeae01c21b1"
      },
      "execution_count": null,
      "outputs": [
        {
          "output_type": "stream",
          "name": "stdout",
          "text": [
            "100 <class 'str'>\n"
          ]
        }
      ]
    },
    {
      "cell_type": "code",
      "source": [
        "y = True #T=1, F=0\n",
        "y = int(y)\n",
        "print(y, type(y)) #convert boolean to int"
      ],
      "metadata": {
        "colab": {
          "base_uri": "https://localhost:8080/"
        },
        "id": "e2arwxPFrfkt",
        "outputId": "44210c37-5e53-47ac-a91e-50131587d405"
      },
      "execution_count": null,
      "outputs": [
        {
          "output_type": "stream",
          "name": "stdout",
          "text": [
            "1 <class 'int'>\n"
          ]
        }
      ]
    },
    {
      "cell_type": "code",
      "source": [
        "z = 1\n",
        "z = bool(z)\n",
        "print(z, 'bool')"
      ],
      "metadata": {
        "colab": {
          "base_uri": "https://localhost:8080/"
        },
        "id": "GxmQ9rGVr0zZ",
        "outputId": "9e0e800f-d520-4c34-d733-0ccdab671215"
      },
      "execution_count": null,
      "outputs": [
        {
          "output_type": "stream",
          "name": "stdout",
          "text": [
            "True bool\n"
          ]
        }
      ]
    },
    {
      "cell_type": "code",
      "source": [
        "age = 34\n",
        "print(age, age*2, age/2)"
      ],
      "metadata": {
        "colab": {
          "base_uri": "https://localhost:8080/"
        },
        "id": "A79hbH8wsC1u",
        "outputId": "6cfe6770-346f-4cfa-e1e9-97f49ac673b3"
      },
      "execution_count": null,
      "outputs": [
        {
          "output_type": "stream",
          "name": "stdout",
          "text": [
            "34 68 17.0\n"
          ]
        }
      ]
    },
    {
      "cell_type": "code",
      "source": [
        "text = \"I'm learning Python\"\n",
        "text2 = \"hello\"\n",
        "print (text+text2, text*4)"
      ],
      "metadata": {
        "colab": {
          "base_uri": "https://localhost:8080/"
        },
        "id": "F3X3Zttosa-O",
        "outputId": "b1adce4a-4ef2-465d-f89b-2bf3f40fb068"
      },
      "execution_count": null,
      "outputs": [
        {
          "output_type": "stream",
          "name": "stdout",
          "text": [
            "I'm learning Pythonhello I'm learning PythonI'm learning PythonI'm learning PythonI'm learning Python\n"
          ]
        }
      ]
    },
    {
      "cell_type": "code",
      "source": [
        "# type int\n",
        "age: int = 34\n",
        "my_name: str =\"Toy\"\n",
        "gpa: float = 3.41\n",
        "seafood: bool = True\n",
        "print(age, type(age))"
      ],
      "metadata": {
        "colab": {
          "base_uri": "https://localhost:8080/"
        },
        "id": "bFbQSWzaswX7",
        "outputId": "2d436e77-fdaa-4c03-c40d-0d578992a9ff"
      },
      "execution_count": null,
      "outputs": [
        {
          "output_type": "stream",
          "name": "stdout",
          "text": [
            "34 <class 'int'>\n"
          ]
        }
      ]
    },
    {
      "cell_type": "code",
      "source": [
        "#function\n",
        "# greeting\n",
        "\n",
        "def greeting(name=\"Tip\", location=\"Oslo\"):\n",
        "    print(\"Hello \" + name)\n",
        "    print(\"She is at \" + location)"
      ],
      "metadata": {
        "id": "W14qhcWBtkvM"
      },
      "execution_count": null,
      "outputs": []
    },
    {
      "cell_type": "code",
      "source": [
        "greeting(location=\"Japan\", name=\"Win\")\n",
        "greeting(location=\"Washington\", name = \"Toy\")"
      ],
      "metadata": {
        "colab": {
          "base_uri": "https://localhost:8080/"
        },
        "id": "ubUi2S9fu2Fm",
        "outputId": "25f32049-cbcc-4677-b46c-bfa3a5c394fc"
      },
      "execution_count": null,
      "outputs": [
        {
          "output_type": "stream",
          "name": "stdout",
          "text": [
            "Hello Win\n",
            "She is at Japan\n",
            "Hello Toy\n",
            "She is at Washington\n"
          ]
        }
      ]
    },
    {
      "cell_type": "code",
      "source": [
        "def add_two_num(num1, num2):\n",
        "    print(\"hello world\")\n",
        "    return(num1+num2) #อะไรหลัง return จะจบการทำงาน"
      ],
      "metadata": {
        "id": "HXWoi_N8u3le"
      },
      "execution_count": null,
      "outputs": []
    },
    {
      "cell_type": "code",
      "source": [
        "result = add_two_num(2,4)\n",
        "print(result)"
      ],
      "metadata": {
        "colab": {
          "base_uri": "https://localhost:8080/"
        },
        "id": "8oZfy-h7xC3o",
        "outputId": "738a25a7-3a0b-4534-b4a4-8f47254d2a2f"
      },
      "execution_count": null,
      "outputs": [
        {
          "output_type": "stream",
          "name": "stdout",
          "text": [
            "hello world\n",
            "6\n"
          ]
        }
      ]
    },
    {
      "cell_type": "code",
      "source": [
        "#work with string\n",
        "#string template : fstrings\n",
        "my_name = \"John Wick\"\n",
        "location = \"London\"\n",
        "\n",
        "text = f\"Hi! my name is {my_name} and I live in {location}\"\n",
        "\n",
        "print(text)"
      ],
      "metadata": {
        "id": "hdUb66dExFsG",
        "colab": {
          "base_uri": "https://localhost:8080/"
        },
        "outputId": "250423ff-169f-4705-ba9e-ee186741be49"
      },
      "execution_count": null,
      "outputs": [
        {
          "output_type": "stream",
          "name": "stdout",
          "text": [
            "Hi! my name is John Wick and I live in London\n"
          ]
        }
      ]
    },
    {
      "cell_type": "code",
      "source": [
        "# function designed for string (string methods)\n",
        "text = \"a duck walks into a bar\"\n",
        "print(text)"
      ],
      "metadata": {
        "colab": {
          "base_uri": "https://localhost:8080/"
        },
        "id": "lLjKY0YZb3Mb",
        "outputId": "fae6dab2-c22b-4f8f-d4bf-f9bfb8e06de2"
      },
      "execution_count": null,
      "outputs": [
        {
          "output_type": "stream",
          "name": "stdout",
          "text": [
            "a duck walks into a bar\n"
          ]
        }
      ]
    },
    {
      "cell_type": "code",
      "source": [
        "#slicing, index start with 0\n",
        "print(text[0], text[-1], text[22])"
      ],
      "metadata": {
        "colab": {
          "base_uri": "https://localhost:8080/"
        },
        "id": "4CmumM8hfaar",
        "outputId": "3a658c45-1486-4064-e443-64fa3b6dee07"
      },
      "execution_count": null,
      "outputs": [
        {
          "output_type": "stream",
          "name": "stdout",
          "text": [
            "a r r\n"
          ]
        }
      ]
    },
    {
      "cell_type": "code",
      "source": [
        "text[2:6]"
      ],
      "metadata": {
        "colab": {
          "base_uri": "https://localhost:8080/",
          "height": 35
        },
        "id": "CjRScdkHfqbx",
        "outputId": "6a536c64-4ad8-4369-e83e-3cf64d7a3d9e"
      },
      "execution_count": null,
      "outputs": [
        {
          "output_type": "execute_result",
          "data": {
            "text/plain": [
              "'duck'"
            ],
            "application/vnd.google.colaboratory.intrinsic+json": {
              "type": "string"
            }
          },
          "metadata": {},
          "execution_count": 5
        }
      ]
    },
    {
      "cell_type": "code",
      "source": [
        "text[7:12] #up to but not include"
      ],
      "metadata": {
        "colab": {
          "base_uri": "https://localhost:8080/",
          "height": 35
        },
        "id": "2Q0FkuMygVob",
        "outputId": "36859b29-1069-4dc2-b543-50f9430cb3e8"
      },
      "execution_count": null,
      "outputs": [
        {
          "output_type": "execute_result",
          "data": {
            "text/plain": [
              "'walks'"
            ],
            "application/vnd.google.colaboratory.intrinsic+json": {
              "type": "string"
            }
          },
          "metadata": {},
          "execution_count": 6
        }
      ]
    },
    {
      "cell_type": "code",
      "source": [
        "text[-3: ]"
      ],
      "metadata": {
        "colab": {
          "base_uri": "https://localhost:8080/",
          "height": 35
        },
        "id": "s7Li1IrGgZf7",
        "outputId": "30f7a410-a112-4ad8-d44c-001217a87c02"
      },
      "execution_count": null,
      "outputs": [
        {
          "output_type": "execute_result",
          "data": {
            "text/plain": [
              "'bar'"
            ],
            "application/vnd.google.colaboratory.intrinsic+json": {
              "type": "string"
            }
          },
          "metadata": {},
          "execution_count": 7
        }
      ]
    },
    {
      "cell_type": "code",
      "source": [
        "text[7: ]"
      ],
      "metadata": {
        "colab": {
          "base_uri": "https://localhost:8080/",
          "height": 35
        },
        "id": "s_gYnkurg5DH",
        "outputId": "4982972c-69c7-441f-8872-f287ff27af97"
      },
      "execution_count": null,
      "outputs": [
        {
          "output_type": "execute_result",
          "data": {
            "text/plain": [
              "'walks into a bar'"
            ],
            "application/vnd.google.colaboratory.intrinsic+json": {
              "type": "string"
            }
          },
          "metadata": {},
          "execution_count": 8
        }
      ]
    },
    {
      "cell_type": "code",
      "source": [
        "#string is imutable #ถ้าประกาศตัวแปรเป็น string จะเปลี่ยนเลยไม่ได้\n",
        "name =\"Python\" # -> Cython\n",
        "name = \"C\" + name[1:]\n",
        "print(name)"
      ],
      "metadata": {
        "colab": {
          "base_uri": "https://localhost:8080/"
        },
        "id": "DU8_DavlhG9H",
        "outputId": "7c42e583-3df1-4c64-d7e1-dee025e005a4"
      },
      "execution_count": null,
      "outputs": [
        {
          "output_type": "stream",
          "name": "stdout",
          "text": [
            "Cython\n"
          ]
        }
      ]
    },
    {
      "cell_type": "code",
      "source": [
        "name = \"Python\"\n",
        "ืname = \"Cython\"\n",
        "print(name)"
      ],
      "metadata": {
        "id": "LyI6lI1bh4kO",
        "colab": {
          "base_uri": "https://localhost:8080/",
          "height": 133
        },
        "outputId": "1d4494ff-db3f-47fb-bebb-3628910d9b4b"
      },
      "execution_count": null,
      "outputs": [
        {
          "output_type": "error",
          "ename": "SyntaxError",
          "evalue": "ignored",
          "traceback": [
            "\u001b[0;36m  File \u001b[0;32m\"<ipython-input-6-3398b110ee4c>\"\u001b[0;36m, line \u001b[0;32m2\u001b[0m\n\u001b[0;31m    ืname = \"Cython\"\u001b[0m\n\u001b[0m    ^\u001b[0m\n\u001b[0;31mSyntaxError\u001b[0m\u001b[0;31m:\u001b[0m invalid character 'ื' (U+0E37)\n"
          ]
        }
      ]
    },
    {
      "cell_type": "code",
      "source": [
        "text = \"a duck walks into a bar\""
      ],
      "metadata": {
        "id": "6oyh40JJxmH2"
      },
      "execution_count": null,
      "outputs": []
    },
    {
      "cell_type": "code",
      "source": [
        "#function vs. methods: method is function for specific object\n",
        "#string method\n",
        "#string is imutable\n",
        "text.upper()\n"
      ],
      "metadata": {
        "colab": {
          "base_uri": "https://localhost:8080/",
          "height": 35
        },
        "id": "y0P6gRL1yGBP",
        "outputId": "6a0735f9-2848-4d0b-b49d-d1d264d7309f"
      },
      "execution_count": null,
      "outputs": [
        {
          "output_type": "execute_result",
          "data": {
            "text/plain": [
              "'A DUCK WALKS INTO A BAR'"
            ],
            "application/vnd.google.colaboratory.intrinsic+json": {
              "type": "string"
            }
          },
          "metadata": {},
          "execution_count": 4
        }
      ]
    },
    {
      "cell_type": "code",
      "source": [
        "text.lower()"
      ],
      "metadata": {
        "colab": {
          "base_uri": "https://localhost:8080/",
          "height": 35
        },
        "id": "5KRtoiCGyYUG",
        "outputId": "7ce62d6e-01df-427c-8134-65210d3c4e73"
      },
      "execution_count": null,
      "outputs": [
        {
          "output_type": "execute_result",
          "data": {
            "text/plain": [
              "'a duck walks into a bar'"
            ],
            "application/vnd.google.colaboratory.intrinsic+json": {
              "type": "string"
            }
          },
          "metadata": {},
          "execution_count": 7
        }
      ]
    },
    {
      "cell_type": "code",
      "source": [
        "text.title()"
      ],
      "metadata": {
        "colab": {
          "base_uri": "https://localhost:8080/",
          "height": 35
        },
        "id": "FtK62EneymiI",
        "outputId": "5975caf0-6348-44b5-a9dd-15a1cec517a1"
      },
      "execution_count": null,
      "outputs": [
        {
          "output_type": "execute_result",
          "data": {
            "text/plain": [
              "'A Duck Walks Into A Bar'"
            ],
            "application/vnd.google.colaboratory.intrinsic+json": {
              "type": "string"
            }
          },
          "metadata": {},
          "execution_count": 8
        }
      ]
    },
    {
      "cell_type": "code",
      "source": [
        "text.lower()"
      ],
      "metadata": {
        "colab": {
          "base_uri": "https://localhost:8080/",
          "height": 35
        },
        "id": "ZmBsW40EyyVo",
        "outputId": "544df926-db72-4a21-fd9d-a6e8b6d74313"
      },
      "execution_count": null,
      "outputs": [
        {
          "output_type": "execute_result",
          "data": {
            "text/plain": [
              "'a duck walks into a bar'"
            ],
            "application/vnd.google.colaboratory.intrinsic+json": {
              "type": "string"
            }
          },
          "metadata": {},
          "execution_count": 9
        }
      ]
    },
    {
      "cell_type": "code",
      "source": [
        "text.replace(\"duck\", \"lion\") #replace"
      ],
      "metadata": {
        "colab": {
          "base_uri": "https://localhost:8080/",
          "height": 35
        },
        "id": "ZsjCWMiny1I1",
        "outputId": "f8e148f0-b637-42e2-dd95-970f879f3804"
      },
      "execution_count": null,
      "outputs": [
        {
          "output_type": "execute_result",
          "data": {
            "text/plain": [
              "'a lion walks into a bar'"
            ],
            "application/vnd.google.colaboratory.intrinsic+json": {
              "type": "string"
            }
          },
          "metadata": {},
          "execution_count": 10
        }
      ]
    },
    {
      "cell_type": "code",
      "source": [
        "words = text.split(\" \") #split white space\n",
        "print(words, type(words))"
      ],
      "metadata": {
        "colab": {
          "base_uri": "https://localhost:8080/"
        },
        "id": "7WOD5Jmcy8lS",
        "outputId": "a02aef39-8a35-49f7-a0c1-b6632364bd09"
      },
      "execution_count": null,
      "outputs": [
        {
          "output_type": "stream",
          "name": "stdout",
          "text": [
            "['a', 'duck', 'walks', 'into', 'a', 'bar'] <class 'list'>\n"
          ]
        }
      ]
    },
    {
      "cell_type": "code",
      "source": [
        "\" \".join(words) #join words"
      ],
      "metadata": {
        "colab": {
          "base_uri": "https://localhost:8080/",
          "height": 35
        },
        "id": "cwn9eGI5zH8F",
        "outputId": "fe7397ba-c3d4-4460-8687-b75c4e7a6393"
      },
      "execution_count": null,
      "outputs": [
        {
          "output_type": "execute_result",
          "data": {
            "text/plain": [
              "'a duck walks into a bar'"
            ],
            "application/vnd.google.colaboratory.intrinsic+json": {
              "type": "string"
            }
          },
          "metadata": {},
          "execution_count": 14
        }
      ]
    },
    {
      "cell_type": "code",
      "source": [
        "\"-\".join(words)"
      ],
      "metadata": {
        "colab": {
          "base_uri": "https://localhost:8080/",
          "height": 35
        },
        "id": "mS-9GEJSz9b0",
        "outputId": "f6c2a804-4eb7-4517-c245-dc5fcbe60dbc"
      },
      "execution_count": null,
      "outputs": [
        {
          "output_type": "execute_result",
          "data": {
            "text/plain": [
              "'a-duck-walks-into-a-bar'"
            ],
            "application/vnd.google.colaboratory.intrinsic+json": {
              "type": "string"
            }
          },
          "metadata": {},
          "execution_count": 15
        }
      ]
    },
    {
      "cell_type": "code",
      "source": [
        "#data structures\n",
        "#1. list []\n",
        "#2. tuple ()\n",
        "#3. dictionary {}\n",
        "#4. set {unique}"
      ],
      "metadata": {
        "id": "BA8myneO0NEa"
      },
      "execution_count": null,
      "outputs": []
    },
    {
      "cell_type": "code",
      "source": [
        "#list is mutable (can update value)\n",
        "shopping_list = ['egg', 'milk', 'bread']\n",
        "print(shopping_list)"
      ],
      "metadata": {
        "colab": {
          "base_uri": "https://localhost:8080/"
        },
        "id": "rgNzGnW_1BZH",
        "outputId": "fb714ce6-b024-4476-fa22-b27e7da04f74"
      },
      "execution_count": null,
      "outputs": [
        {
          "output_type": "stream",
          "name": "stdout",
          "text": [
            "['egg', 'milk', 'bread']\n"
          ]
        }
      ]
    },
    {
      "cell_type": "code",
      "source": [
        "print(shopping_list[1])\n",
        "shopping_list[0] =\"Pineapple\"\n",
        "print(shopping_list)"
      ],
      "metadata": {
        "colab": {
          "base_uri": "https://localhost:8080/"
        },
        "id": "j0JooW9l1GfD",
        "outputId": "8db6dbf9-95c1-4068-b322-7cfbba32bddc"
      },
      "execution_count": null,
      "outputs": [
        {
          "output_type": "stream",
          "name": "stdout",
          "text": [
            "milk\n",
            "['Pineapple', 'milk', 'bread']\n"
          ]
        }
      ]
    },
    {
      "cell_type": "code",
      "source": [
        "print(len(shopping_list[1]))"
      ],
      "metadata": {
        "colab": {
          "base_uri": "https://localhost:8080/"
        },
        "id": "U271ABzb1Q2Q",
        "outputId": "552eb9e0-5914-43f4-ee1e-352ebc924569"
      },
      "execution_count": null,
      "outputs": [
        {
          "output_type": "stream",
          "name": "stdout",
          "text": [
            "4\n"
          ]
        }
      ]
    },
    {
      "cell_type": "code",
      "source": [
        "shopping_list = ['egg', 'milk', 'bread']"
      ],
      "metadata": {
        "id": "Ko-eTj_y1W6y"
      },
      "execution_count": null,
      "outputs": []
    },
    {
      "cell_type": "code",
      "source": [
        "shopping_list.append('orange juice') #add value on the right\n",
        "print(shopping_list)"
      ],
      "metadata": {
        "colab": {
          "base_uri": "https://localhost:8080/"
        },
        "id": "e7ESFoEs17bM",
        "outputId": "45aed525-4d99-461f-ea1c-da7b4f33b081"
      },
      "execution_count": null,
      "outputs": [
        {
          "output_type": "stream",
          "name": "stdout",
          "text": [
            "['egg', 'milk', 'bread', 'orange juice']\n"
          ]
        }
      ]
    },
    {
      "cell_type": "code",
      "source": [
        "#sort items: ascending order\n",
        "shopping_list.sort()\n",
        "print(shopping_list)"
      ],
      "metadata": {
        "colab": {
          "base_uri": "https://localhost:8080/"
        },
        "id": "oedXKrB62DR9",
        "outputId": "a4e50ae6-d0d7-432f-c9b6-846120051879"
      },
      "execution_count": null,
      "outputs": [
        {
          "output_type": "stream",
          "name": "stdout",
          "text": [
            "['bread', 'egg', 'milk', 'orange juice']\n"
          ]
        }
      ]
    },
    {
      "cell_type": "code",
      "source": [
        "#sort descending order\n",
        "shopping_list.sort(reverse=True)\n",
        "print(shopping_list)"
      ],
      "metadata": {
        "colab": {
          "base_uri": "https://localhost:8080/"
        },
        "id": "0Jq1dNHQ2d08",
        "outputId": "2985e835-24a9-4200-9ec7-f9078c2cebbf"
      },
      "execution_count": null,
      "outputs": [
        {
          "output_type": "stream",
          "name": "stdout",
          "text": [
            "['orange juice', 'milk', 'egg', 'bread']\n"
          ]
        }
      ]
    },
    {
      "cell_type": "code",
      "source": [
        "def mean(score):\n",
        "    return sum(score)/len(score)"
      ],
      "metadata": {
        "id": "B9AXIgvg3HuD"
      },
      "execution_count": null,
      "outputs": []
    },
    {
      "cell_type": "code",
      "source": [
        "score = [90,88,34,23]\n",
        "print(sum(score), min(score), max(score), len(score), mean(score))"
      ],
      "metadata": {
        "colab": {
          "base_uri": "https://localhost:8080/"
        },
        "id": "YPe3b4J02rsC",
        "outputId": "51d6c8e1-e2c0-476d-d675-0f6a7a6a99be"
      },
      "execution_count": null,
      "outputs": [
        {
          "output_type": "stream",
          "name": "stdout",
          "text": [
            "235 23 90 4 58.75\n"
          ]
        }
      ]
    },
    {
      "cell_type": "code",
      "source": [
        "sum(score)/len(score) #average"
      ],
      "metadata": {
        "colab": {
          "base_uri": "https://localhost:8080/"
        },
        "id": "n4D5tj3t2-QR",
        "outputId": "caef455f-8afa-449a-9322-6c1236a28b61"
      },
      "execution_count": null,
      "outputs": [
        {
          "output_type": "execute_result",
          "data": {
            "text/plain": [
              "58.75"
            ]
          },
          "metadata": {},
          "execution_count": 11
        }
      ]
    },
    {
      "cell_type": "code",
      "source": [
        "# remove last item in the list\n",
        "# list method .pop()\n",
        "shopping_list.pop()\n",
        "print(shopping_list)"
      ],
      "metadata": {
        "id": "Tf7lOHqj3ZTH",
        "colab": {
          "base_uri": "https://localhost:8080/"
        },
        "outputId": "917c3354-1911-45f8-f402-46cee40fe8b5"
      },
      "execution_count": null,
      "outputs": [
        {
          "output_type": "stream",
          "name": "stdout",
          "text": [
            "['orange juice', 'milk']\n"
          ]
        }
      ]
    },
    {
      "cell_type": "code",
      "source": [
        "# remove specific item\n",
        "shopping_list.remove(\"milk\")\n",
        "shopping_list"
      ],
      "metadata": {
        "colab": {
          "base_uri": "https://localhost:8080/"
        },
        "id": "-t6k8QyeD769",
        "outputId": "6b99f994-f07e-4253-90db-adea03176f7a"
      },
      "execution_count": null,
      "outputs": [
        {
          "output_type": "execute_result",
          "data": {
            "text/plain": [
              "['orange juice']"
            ]
          },
          "metadata": {},
          "execution_count": 14
        }
      ]
    },
    {
      "cell_type": "code",
      "source": [
        "# .insert()\n",
        "shopping_list.insert(1, \"Coke\")\n",
        "shopping_list"
      ],
      "metadata": {
        "colab": {
          "base_uri": "https://localhost:8080/"
        },
        "id": "FvlbUBk6FViO",
        "outputId": "fbe177c9-7e33-4d12-9869-bb6849244cfc"
      },
      "execution_count": null,
      "outputs": [
        {
          "output_type": "execute_result",
          "data": {
            "text/plain": [
              "['orange juice', 'Coke']"
            ]
          },
          "metadata": {},
          "execution_count": 15
        }
      ]
    },
    {
      "cell_type": "code",
      "source": [
        "# list+list\n",
        "items1 = ['egg', 'milk']\n",
        "items2 = ['banana', 'bread']\n",
        "\n",
        "print(items1+items2)"
      ],
      "metadata": {
        "id": "avAxtUNdFpUX",
        "colab": {
          "base_uri": "https://localhost:8080/"
        },
        "outputId": "fc8e94e3-2567-43d7-fb90-f9e77935a426"
      },
      "execution_count": null,
      "outputs": [
        {
          "output_type": "stream",
          "name": "stdout",
          "text": [
            "['egg', 'milk', 'banana', 'bread']\n"
          ]
        }
      ]
    },
    {
      "cell_type": "code",
      "source": [
        "#tuple items is imutable (keep value only-cannot update)\n",
        "tup_item = ('egg', 'bread', 'egg', 'egg')\n",
        "tup_item"
      ],
      "metadata": {
        "colab": {
          "base_uri": "https://localhost:8080/"
        },
        "id": "p4RPcXUMCpsU",
        "outputId": "ec201a2c-4345-4165-89a0-d40b78cd8b2c"
      },
      "execution_count": null,
      "outputs": [
        {
          "output_type": "execute_result",
          "data": {
            "text/plain": [
              "('egg', 'bread', 'egg', 'egg')"
            ]
          },
          "metadata": {},
          "execution_count": 3
        }
      ]
    },
    {
      "cell_type": "code",
      "source": [
        "tup_item.count('egg')"
      ],
      "metadata": {
        "colab": {
          "base_uri": "https://localhost:8080/"
        },
        "id": "acVnhDc2EkyR",
        "outputId": "a0704593-9285-4933-e686-ed8a22e9f6e6"
      },
      "execution_count": null,
      "outputs": [
        {
          "output_type": "execute_result",
          "data": {
            "text/plain": [
              "3"
            ]
          },
          "metadata": {},
          "execution_count": 4
        }
      ]
    },
    {
      "cell_type": "code",
      "source": [
        "#usernanme password (tuple)\n",
        "s1 = (\"id001\", \"1234\")\n",
        "s2 = (\"id002\", \"6543\")\n",
        "user_pw = (s1,s2)\n",
        "\n",
        "print(user_pw)"
      ],
      "metadata": {
        "colab": {
          "base_uri": "https://localhost:8080/"
        },
        "id": "MFJmaN0bEpvw",
        "outputId": "498adfa1-bc8e-4f69-8f16-a6ecb858a49f"
      },
      "execution_count": null,
      "outputs": [
        {
          "output_type": "stream",
          "name": "stdout",
          "text": [
            "(('id001', '1234'), ('id002', '6543'))\n"
          ]
        }
      ]
    },
    {
      "cell_type": "code",
      "source": [
        "#tuple unpacking\n",
        "username, password = s1\n",
        "\n",
        "print(username, password)"
      ],
      "metadata": {
        "colab": {
          "base_uri": "https://localhost:8080/"
        },
        "id": "cHkm5RPkE94M",
        "outputId": "1f12d052-b25d-4ae6-e0af-294d920cac83"
      },
      "execution_count": null,
      "outputs": [
        {
          "output_type": "stream",
          "name": "stdout",
          "text": [
            "id001 1234\n"
          ]
        }
      ]
    },
    {
      "cell_type": "code",
      "source": [
        "#tuple unpacking 3 values\n",
        "name, age, gpa = (\"John Wick\", 42, 3.98)\n",
        "print(name, age)"
      ],
      "metadata": {
        "colab": {
          "base_uri": "https://localhost:8080/"
        },
        "id": "uvzWfDMMFLmb",
        "outputId": "9383ea82-ea2f-468d-c9d0-807bb276646d"
      },
      "execution_count": null,
      "outputs": [
        {
          "output_type": "stream",
          "name": "stdout",
          "text": [
            "John Wick 42\n"
          ]
        }
      ]
    },
    {
      "cell_type": "code",
      "source": [
        "#tuple unpacking 3 values\n",
        "name, age, _ = (\"John Wick\", 42, 3.98)\n",
        "print(name, age)"
      ],
      "metadata": {
        "colab": {
          "base_uri": "https://localhost:8080/"
        },
        "id": "4ctOvDMLFcSL",
        "outputId": "3bed0ac0-89fb-4397-84d4-ea6fbc630f26"
      },
      "execution_count": null,
      "outputs": [
        {
          "output_type": "stream",
          "name": "stdout",
          "text": [
            "John Wick 42\n"
          ]
        }
      ]
    },
    {
      "cell_type": "code",
      "source": [
        "#set {unique}\n",
        "course = [\"Python\", \"Python\", \"R\", \"SQL\", \"SQL\", \"sql\"]"
      ],
      "metadata": {
        "id": "t_erRUgxFtfy"
      },
      "execution_count": null,
      "outputs": []
    },
    {
      "cell_type": "code",
      "source": [
        "set(course)"
      ],
      "metadata": {
        "colab": {
          "base_uri": "https://localhost:8080/"
        },
        "id": "UZjLLa2JGRfu",
        "outputId": "f5c87605-5663-4126-900e-a813af244953"
      },
      "execution_count": null,
      "outputs": [
        {
          "output_type": "execute_result",
          "data": {
            "text/plain": [
              "{'Python', 'R', 'SQL', 'sql'}"
            ]
          },
          "metadata": {},
          "execution_count": 10
        }
      ]
    },
    {
      "cell_type": "code",
      "source": [
        "#dictionary key: value pairs (mutable)\n",
        "course ={\n",
        "    \"name\": \"Bootcamp\",\n",
        "    \"duration\": \"4 months\",\n",
        "    \"students\": 200,\n",
        "    \"replay\" : True,\n",
        "    \"skills\": [\"Google Sheets\", \"SQL\", \"R\", \"Python\",\n",
        "               \"Stats\", \"ML\", \"Dashboard\", \"Data transformation\"]\n",
        "}"
      ],
      "metadata": {
        "id": "DgN7s1FkGT_0"
      },
      "execution_count": null,
      "outputs": []
    },
    {
      "cell_type": "code",
      "source": [
        "course"
      ],
      "metadata": {
        "colab": {
          "base_uri": "https://localhost:8080/"
        },
        "id": "tcbYpds0TD5M",
        "outputId": "00f4aa7d-f851-454c-f84f-35a23dd1a596"
      },
      "execution_count": null,
      "outputs": [
        {
          "output_type": "execute_result",
          "data": {
            "text/plain": [
              "{'name': 'Bootcamp',\n",
              " 'duration': '4 months',\n",
              " 'students': 200,\n",
              " 'replay': True,\n",
              " 'skills': ['Google Sheets',\n",
              "  'SQL',\n",
              "  'R',\n",
              "  'Python',\n",
              "  'Stats',\n",
              "  'ML',\n",
              "  'Dashboard',\n",
              "  'Data transformation']}"
            ]
          },
          "metadata": {},
          "execution_count": 13
        }
      ]
    },
    {
      "cell_type": "code",
      "source": [
        "course[\"name\"]"
      ],
      "metadata": {
        "colab": {
          "base_uri": "https://localhost:8080/",
          "height": 35
        },
        "id": "m9HA6FvlTQgg",
        "outputId": "729e4522-19da-4b73-d09c-4d0f6b9376f3"
      },
      "execution_count": null,
      "outputs": [
        {
          "output_type": "execute_result",
          "data": {
            "text/plain": [
              "'Bootcamp'"
            ],
            "application/vnd.google.colaboratory.intrinsic+json": {
              "type": "string"
            }
          },
          "metadata": {},
          "execution_count": 14
        }
      ]
    },
    {
      "cell_type": "code",
      "source": [
        "course[\"skills\"]"
      ],
      "metadata": {
        "colab": {
          "base_uri": "https://localhost:8080/"
        },
        "id": "ZmSJ0G4OTVX4",
        "outputId": "2f6c0c2f-ecb6-4abe-a177-2e73aaa59f31"
      },
      "execution_count": null,
      "outputs": [
        {
          "output_type": "execute_result",
          "data": {
            "text/plain": [
              "['Google Sheets',\n",
              " 'SQL',\n",
              " 'R',\n",
              " 'Python',\n",
              " 'Stats',\n",
              " 'ML',\n",
              " 'Dashboard',\n",
              " 'Data transformation']"
            ]
          },
          "metadata": {},
          "execution_count": 15
        }
      ]
    },
    {
      "cell_type": "code",
      "source": [
        "course[\"replay\"]"
      ],
      "metadata": {
        "colab": {
          "base_uri": "https://localhost:8080/"
        },
        "id": "09jFr_xygGmp",
        "outputId": "9588945c-be2b-47c4-a987-1241693374da"
      },
      "execution_count": null,
      "outputs": [
        {
          "output_type": "execute_result",
          "data": {
            "text/plain": [
              "True"
            ]
          },
          "metadata": {},
          "execution_count": 16
        }
      ]
    },
    {
      "cell_type": "code",
      "source": [
        "#add key\n",
        "course[\"start_time\"] = \"9am\"\n",
        "\n",
        "course[\"language\"] = \"Thai\"\n",
        "\n",
        "course"
      ],
      "metadata": {
        "colab": {
          "base_uri": "https://localhost:8080/"
        },
        "id": "tgHEh5_3jwFy",
        "outputId": "f6991c85-735a-479c-badd-bf656f119d1f"
      },
      "execution_count": null,
      "outputs": [
        {
          "output_type": "execute_result",
          "data": {
            "text/plain": [
              "{'name': 'Bootcamp',\n",
              " 'duration': '4 months',\n",
              " 'students': 200,\n",
              " 'replay': True,\n",
              " 'skills': ['Google Sheets',\n",
              "  'SQL',\n",
              "  'R',\n",
              "  'Python',\n",
              "  'Stats',\n",
              "  'ML',\n",
              "  'Dashboard',\n",
              "  'Data transformation'],\n",
              " 'start_time': '9am',\n",
              " 'language': 'Thai'}"
            ]
          },
          "metadata": {},
          "execution_count": 17
        }
      ]
    },
    {
      "cell_type": "code",
      "source": [
        "#delete key\n",
        "del course[\"language\"]\n",
        "course"
      ],
      "metadata": {
        "colab": {
          "base_uri": "https://localhost:8080/"
        },
        "id": "WHR_U5pJkJO2",
        "outputId": "c559ff78-6d3f-4114-f49c-81d71b02f086"
      },
      "execution_count": null,
      "outputs": [
        {
          "output_type": "execute_result",
          "data": {
            "text/plain": [
              "{'name': 'Bootcamp',\n",
              " 'duration': '4 months',\n",
              " 'students': 200,\n",
              " 'replay': True,\n",
              " 'skills': ['Google Sheets',\n",
              "  'SQL',\n",
              "  'R',\n",
              "  'Python',\n",
              "  'Stats',\n",
              "  'ML',\n",
              "  'Dashboard',\n",
              "  'Data transformation'],\n",
              " 'start_time': '9am'}"
            ]
          },
          "metadata": {},
          "execution_count": 18
        }
      ]
    },
    {
      "cell_type": "code",
      "source": [
        "#update key\n",
        "course[\"replay\"] = False\n",
        "course"
      ],
      "metadata": {
        "colab": {
          "base_uri": "https://localhost:8080/"
        },
        "id": "GJRMRoYkkdCq",
        "outputId": "3696ff1f-699e-4e08-813e-6d9d5694d5a8"
      },
      "execution_count": null,
      "outputs": [
        {
          "output_type": "execute_result",
          "data": {
            "text/plain": [
              "{'name': 'Bootcamp',\n",
              " 'duration': '4 months',\n",
              " 'students': 200,\n",
              " 'replay': False,\n",
              " 'skills': ['Google Sheets',\n",
              "  'SQL',\n",
              "  'R',\n",
              "  'Python',\n",
              "  'Stats',\n",
              "  'ML',\n",
              "  'Dashboard',\n",
              "  'Data transformation'],\n",
              " 'start_time': '9am'}"
            ]
          },
          "metadata": {},
          "execution_count": 19
        }
      ]
    },
    {
      "cell_type": "code",
      "source": [
        "course[\"skills\"][0:3]"
      ],
      "metadata": {
        "colab": {
          "base_uri": "https://localhost:8080/"
        },
        "id": "ZYpOuvjukoEu",
        "outputId": "102013e1-d46d-42ca-d04c-669d3fff32e9"
      },
      "execution_count": null,
      "outputs": [
        {
          "output_type": "execute_result",
          "data": {
            "text/plain": [
              "['Google Sheets', 'SQL', 'R']"
            ]
          },
          "metadata": {},
          "execution_count": 21
        }
      ]
    },
    {
      "cell_type": "code",
      "source": [
        "course[\"skills\"][-3:]"
      ],
      "metadata": {
        "colab": {
          "base_uri": "https://localhost:8080/"
        },
        "id": "3ppm7Yimk5lC",
        "outputId": "48b51821-dbf9-44c6-d8eb-63fed56461b3"
      },
      "execution_count": null,
      "outputs": [
        {
          "output_type": "execute_result",
          "data": {
            "text/plain": [
              "['ML', 'Dashboard', 'Data transformation']"
            ]
          },
          "metadata": {},
          "execution_count": 23
        }
      ]
    },
    {
      "cell_type": "code",
      "source": [
        "course.keys()"
      ],
      "metadata": {
        "colab": {
          "base_uri": "https://localhost:8080/"
        },
        "id": "kGlRs57_lArA",
        "outputId": "949e18fd-0d8f-4c78-c8b5-0e29da028ace"
      },
      "execution_count": null,
      "outputs": [
        {
          "output_type": "execute_result",
          "data": {
            "text/plain": [
              "dict_keys(['name', 'duration', 'students', 'replay', 'skills', 'start_time'])"
            ]
          },
          "metadata": {},
          "execution_count": 25
        }
      ]
    },
    {
      "cell_type": "code",
      "source": [
        "list( course.keys())"
      ],
      "metadata": {
        "colab": {
          "base_uri": "https://localhost:8080/"
        },
        "id": "CJazVj4FlIYj",
        "outputId": "ad4c7bdb-7948-4ce8-f8f0-38bf8f2d1276"
      },
      "execution_count": null,
      "outputs": [
        {
          "output_type": "execute_result",
          "data": {
            "text/plain": [
              "['name', 'duration', 'students', 'replay', 'skills', 'start_time']"
            ]
          },
          "metadata": {},
          "execution_count": 26
        }
      ]
    },
    {
      "cell_type": "code",
      "source": [
        "list( course.values())"
      ],
      "metadata": {
        "colab": {
          "base_uri": "https://localhost:8080/"
        },
        "id": "NUtt1jGQlS_p",
        "outputId": "dd27a5ba-c365-4874-90a7-d178ea830bc6"
      },
      "execution_count": null,
      "outputs": [
        {
          "output_type": "execute_result",
          "data": {
            "text/plain": [
              "['Bootcamp',\n",
              " '4 months',\n",
              " 200,\n",
              " False,\n",
              " ['Google Sheets',\n",
              "  'SQL',\n",
              "  'R',\n",
              "  'Python',\n",
              "  'Stats',\n",
              "  'ML',\n",
              "  'Dashboard',\n",
              "  'Data transformation'],\n",
              " '9am']"
            ]
          },
          "metadata": {},
          "execution_count": 28
        }
      ]
    },
    {
      "cell_type": "code",
      "source": [
        "list( course.items())"
      ],
      "metadata": {
        "colab": {
          "base_uri": "https://localhost:8080/"
        },
        "id": "aBh0vtCtlYzo",
        "outputId": "bb747a02-bf64-4944-b03c-01fcf7a4e216"
      },
      "execution_count": null,
      "outputs": [
        {
          "output_type": "execute_result",
          "data": {
            "text/plain": [
              "[('name', 'Bootcamp'),\n",
              " ('duration', '4 months'),\n",
              " ('students', 200),\n",
              " ('replay', False),\n",
              " ('skills',\n",
              "  ['Google Sheets',\n",
              "   'SQL',\n",
              "   'R',\n",
              "   'Python',\n",
              "   'Stats',\n",
              "   'ML',\n",
              "   'Dashboard',\n",
              "   'Data transformation']),\n",
              " ('start_time', '9am')]"
            ]
          },
          "metadata": {},
          "execution_count": 29
        }
      ]
    },
    {
      "cell_type": "code",
      "source": [
        "course.get(\"replay\")"
      ],
      "metadata": {
        "colab": {
          "base_uri": "https://localhost:8080/"
        },
        "id": "4u7fFzFlldh7",
        "outputId": "949a566c-aa54-4506-91bb-ace3da2d1838"
      },
      "execution_count": null,
      "outputs": [
        {
          "output_type": "execute_result",
          "data": {
            "text/plain": [
              "False"
            ]
          },
          "metadata": {},
          "execution_count": 30
        }
      ]
    },
    {
      "cell_type": "code",
      "source": [
        "course[\"replay\"]"
      ],
      "metadata": {
        "colab": {
          "base_uri": "https://localhost:8080/"
        },
        "id": "t25oPrAWlj3h",
        "outputId": "d402d0d9-c4ee-4d73-892e-6bd7111a8fce"
      },
      "execution_count": null,
      "outputs": [
        {
          "output_type": "execute_result",
          "data": {
            "text/plain": [
              "False"
            ]
          },
          "metadata": {},
          "execution_count": 31
        }
      ]
    },
    {
      "cell_type": "code",
      "source": [
        "#recap\n",
        "#list, dictionary = mutable\n",
        "#tuple, string = imutable"
      ],
      "metadata": {
        "id": "X_XLIB9Hlo--"
      },
      "execution_count": null,
      "outputs": []
    },
    {
      "cell_type": "code",
      "source": [
        "#control flow\n",
        "#if for while"
      ],
      "metadata": {
        "id": "Tza2F0XtmFeY"
      },
      "execution_count": null,
      "outputs": []
    },
    {
      "cell_type": "code",
      "source": [
        "#final exam 150 questions, pass >=120\n",
        "score = 125\n",
        "if score >= 120:\n",
        "    print(\"passed\")\n",
        "else:\n",
        "    print(\"failed\")"
      ],
      "metadata": {
        "colab": {
          "base_uri": "https://localhost:8080/"
        },
        "id": "JA0IOskdmTk9",
        "outputId": "75626d82-4f1b-47bb-d838-39e285376548"
      },
      "execution_count": null,
      "outputs": [
        {
          "output_type": "stream",
          "name": "stdout",
          "text": [
            "passed\n"
          ]
        }
      ]
    },
    {
      "cell_type": "code",
      "source": [
        "def grade (score):\n",
        "    if score >= 120:\n",
        "        return(\"passed\")\n",
        "    else:\n",
        "        return(\"failed\")"
      ],
      "metadata": {
        "id": "8jfAGo2jmpHH"
      },
      "execution_count": null,
      "outputs": []
    },
    {
      "cell_type": "code",
      "source": [
        "result = grade(144)\n",
        "print(result)"
      ],
      "metadata": {
        "colab": {
          "base_uri": "https://localhost:8080/"
        },
        "id": "UWw6Cd0Npv-A",
        "outputId": "edd35d44-6025-434d-ea2c-98e2657c3f5a"
      },
      "execution_count": null,
      "outputs": [
        {
          "output_type": "stream",
          "name": "stdout",
          "text": [
            "passed\n"
          ]
        }
      ]
    },
    {
      "cell_type": "code",
      "source": [
        "def grade (score):\n",
        "    if score >= 120:\n",
        "        return(\"Excellent\")\n",
        "    elif score >= 100:\n",
        "        return \"Good\"\n",
        "    elif score >= 80:\n",
        "        return \"Okay\"\n",
        "    else:\n",
        "        return \"Need to read more!\""
      ],
      "metadata": {
        "id": "nEodyHjqp1Iy"
      },
      "execution_count": null,
      "outputs": []
    },
    {
      "cell_type": "code",
      "source": [
        "result = grade(85)\n",
        "print (result)"
      ],
      "metadata": {
        "colab": {
          "base_uri": "https://localhost:8080/"
        },
        "id": "Oa78dGK7rwX9",
        "outputId": "aeb64153-ea7b-4cf8-d2a3-f65463424fe6"
      },
      "execution_count": null,
      "outputs": [
        {
          "output_type": "stream",
          "name": "stdout",
          "text": [
            "Okay\n"
          ]
        }
      ]
    },
    {
      "cell_type": "code",
      "source": [
        "# use and, or in condition\n",
        "# course == data science, score >= 88 passed\n",
        "# course == english, score >= 70 passed\n",
        "def grade(course, score):\n",
        "    if course == \"english\" and score >= 70:\n",
        "        return \"passed\"\n",
        "    elif course == \"data science\" and score >=80:\n",
        "        return \"passed\"\n",
        "    else:\n",
        "        return \"failed\""
      ],
      "metadata": {
        "id": "Vs116KhdsLQg"
      },
      "execution_count": null,
      "outputs": []
    },
    {
      "cell_type": "code",
      "source": [
        "grade(\"data science\", 81)"
      ],
      "metadata": {
        "colab": {
          "base_uri": "https://localhost:8080/",
          "height": 35
        },
        "id": "RjHoR9hDs_Ye",
        "outputId": "d637e596-0f92-4991-abcb-dcab4e88ca64"
      },
      "execution_count": null,
      "outputs": [
        {
          "output_type": "execute_result",
          "data": {
            "text/plain": [
              "'passed'"
            ],
            "application/vnd.google.colaboratory.intrinsic+json": {
              "type": "string"
            }
          },
          "metadata": {},
          "execution_count": 40
        }
      ]
    },
    {
      "cell_type": "code",
      "source": [
        "not True"
      ],
      "metadata": {
        "colab": {
          "base_uri": "https://localhost:8080/"
        },
        "id": "O1Y_0l7itFEI",
        "outputId": "22666b09-70af-4d93-97bb-a7a79b7e4f6c"
      },
      "execution_count": null,
      "outputs": [
        {
          "output_type": "execute_result",
          "data": {
            "text/plain": [
              "False"
            ]
          },
          "metadata": {},
          "execution_count": 41
        }
      ]
    },
    {
      "cell_type": "code",
      "source": [
        "# for loop\n",
        "#if score >= 80\n",
        "scores = [88, 90, 75]\n",
        "\n",
        "for score in scores:\n",
        "    print(score-2)\n"
      ],
      "metadata": {
        "colab": {
          "base_uri": "https://localhost:8080/"
        },
        "id": "MR9cuESNtKo1",
        "outputId": "e7a5e1de-df60-4817-847e-7650461e37da"
      },
      "execution_count": null,
      "outputs": [
        {
          "output_type": "stream",
          "name": "stdout",
          "text": [
            "86\n",
            "88\n",
            "73\n"
          ]
        }
      ]
    },
    {
      "cell_type": "code",
      "source": [
        "new_scores = []\n",
        "\n",
        "for score in scores:\n",
        "    new_scores.append(score-2)\n",
        "print(new_scores)"
      ],
      "metadata": {
        "colab": {
          "base_uri": "https://localhost:8080/"
        },
        "id": "e_m47k_Gtqk9",
        "outputId": "81435dfc-547f-4be8-9c9c-cd578586043f"
      },
      "execution_count": null,
      "outputs": [
        {
          "output_type": "stream",
          "name": "stdout",
          "text": [
            "[86, 88, 73]\n"
          ]
        }
      ]
    },
    {
      "cell_type": "code",
      "source": [
        "#grading all\n",
        "def grading_all(scores):\n",
        "    new_scores = []\n",
        "    for score in scores:\n",
        "        new_scores.append(score-2)\n",
        "    return new_scores"
      ],
      "metadata": {
        "id": "Xhow1naDt8qA"
      },
      "execution_count": null,
      "outputs": []
    },
    {
      "cell_type": "code",
      "source": [
        "grading_all([75,88,90,52])"
      ],
      "metadata": {
        "colab": {
          "base_uri": "https://localhost:8080/"
        },
        "id": "q6l9ULKSuavS",
        "outputId": "849f21c8-48c9-4eeb-9e15-02157d50fc9e"
      },
      "execution_count": null,
      "outputs": [
        {
          "output_type": "execute_result",
          "data": {
            "text/plain": [
              "[73, 86, 88, 50]"
            ]
          },
          "metadata": {},
          "execution_count": 46
        }
      ]
    },
    {
      "cell_type": "code",
      "source": [
        "# list comprehension\n",
        "scores = [88, 90, 75]\n",
        "new_scores = [s*2 for s in scores]\n",
        "new_scores"
      ],
      "metadata": {
        "colab": {
          "base_uri": "https://localhost:8080/"
        },
        "id": "XcyiztjfufH6",
        "outputId": "ddc53a07-81bf-4bda-cccb-5f3457ad5873"
      },
      "execution_count": null,
      "outputs": [
        {
          "output_type": "execute_result",
          "data": {
            "text/plain": [
              "[176, 180, 150]"
            ]
          },
          "metadata": {},
          "execution_count": 49
        }
      ]
    },
    {
      "cell_type": "code",
      "source": [
        "#list comprehension\n",
        "#for loop\n",
        "friends = [\"toy\", \"ink\", \"bee\", \"pui\"]\n",
        "\n",
        "[f.upper() for f in friends]"
      ],
      "metadata": {
        "colab": {
          "base_uri": "https://localhost:8080/"
        },
        "id": "Ub13VIC8vmI2",
        "outputId": "49534663-2ac8-4785-91c9-bab6c777f5c6"
      },
      "execution_count": null,
      "outputs": [
        {
          "output_type": "execute_result",
          "data": {
            "text/plain": [
              "['TOY', 'INK', 'BEE', 'PUI']"
            ]
          },
          "metadata": {},
          "execution_count": 50
        }
      ]
    },
    {
      "cell_type": "code",
      "source": [
        "#while loop\n",
        "count = 0\n",
        "\n",
        "while count < 5:\n",
        "    print(\"hello\")\n",
        "    count +=1\n"
      ],
      "metadata": {
        "colab": {
          "base_uri": "https://localhost:8080/"
        },
        "id": "qB0JnpdSzgb5",
        "outputId": "17b65a7b-3a16-4881-953d-4fc29a520951"
      },
      "execution_count": null,
      "outputs": [
        {
          "output_type": "stream",
          "name": "stdout",
          "text": [
            "hello\n",
            "hello\n",
            "hello\n",
            "hello\n",
            "hello\n"
          ]
        }
      ]
    },
    {
      "cell_type": "code",
      "source": [
        "#chatbot for fruit order\n",
        "user_name = input(\"What is your name? \")"
      ],
      "metadata": {
        "colab": {
          "base_uri": "https://localhost:8080/"
        },
        "id": "7pQfsyZO2Pze",
        "outputId": "eec9e196-8d2b-469f-e53b-96c09f3f2ac0"
      },
      "execution_count": null,
      "outputs": [
        {
          "name": "stdout",
          "output_type": "stream",
          "text": [
            "What is your name? Johnwick\n"
          ]
        }
      ]
    },
    {
      "cell_type": "code",
      "source": [
        "def chatbot():\n",
        "    fruits = []\n",
        "    while True:\n",
        "        fruit = input(\"What fruit do you want to order? \")\n",
        "\n",
        "        if fruit=='exit':\n",
        "            return fruits\n",
        "        fruits.append(fruit)"
      ],
      "metadata": {
        "id": "mlzB37EV2le5"
      },
      "execution_count": null,
      "outputs": []
    },
    {
      "cell_type": "code",
      "source": [
        "chatbot()"
      ],
      "metadata": {
        "colab": {
          "base_uri": "https://localhost:8080/"
        },
        "id": "PLjJCwCD3HMV",
        "outputId": "587c0de8-8cb8-4ad0-e36a-53d2c6815819"
      },
      "execution_count": null,
      "outputs": [
        {
          "name": "stdout",
          "output_type": "stream",
          "text": [
            "What fruit do you want to order? apple\n",
            "What fruit do you want to order? strawberry\n",
            "What fruit do you want to order? exit\n"
          ]
        },
        {
          "output_type": "execute_result",
          "data": {
            "text/plain": [
              "['apple', 'strawberry']"
            ]
          },
          "metadata": {},
          "execution_count": 59
        }
      ]
    },
    {
      "cell_type": "code",
      "source": [
        "#HW01 -chatbot to order pizza\n",
        "#HW02 - pao ying chub"
      ],
      "metadata": {
        "id": "4G8YNAEi3Jim"
      },
      "execution_count": null,
      "outputs": []
    },
    {
      "cell_type": "code",
      "source": [
        "age = int( input(\"How old are you? \"))"
      ],
      "metadata": {
        "colab": {
          "base_uri": "https://localhost:8080/"
        },
        "id": "J8btXt9d3b9X",
        "outputId": "b2c926fc-f294-47c5-d2e3-dbf5103cfe59"
      },
      "execution_count": null,
      "outputs": [
        {
          "name": "stdout",
          "output_type": "stream",
          "text": [
            "How old are you? 34\n"
          ]
        }
      ]
    },
    {
      "cell_type": "code",
      "source": [
        "type(age)"
      ],
      "metadata": {
        "colab": {
          "base_uri": "https://localhost:8080/"
        },
        "id": "bqDKxwDI30hR",
        "outputId": "d8780dc7-3083-4833-e33c-32b150add607"
      },
      "execution_count": null,
      "outputs": [
        {
          "output_type": "execute_result",
          "data": {
            "text/plain": [
              "int"
            ]
          },
          "metadata": {},
          "execution_count": 61
        }
      ]
    },
    {
      "cell_type": "code",
      "source": [
        "#OOP -Object Oriented Programming\n",
        "#Dog class"
      ],
      "metadata": {
        "id": "WLn4K2M035ND"
      },
      "execution_count": null,
      "outputs": []
    },
    {
      "cell_type": "code",
      "source": [
        "class Dog:\n",
        "    def __init__(self, name, age, breed): #__ dunder\n",
        "        self.name = name #int initiate\n",
        "        self.age = age\n",
        "        self.breed = breed"
      ],
      "metadata": {
        "id": "dVqJZxcl4Bqq"
      },
      "execution_count": null,
      "outputs": []
    },
    {
      "cell_type": "code",
      "source": [
        "dog1 = Dog(\"ovaltine\", 4, \"chihuahua\")\n",
        "dog2 = Dog(\"milo\", 3, \"poodle\")\n",
        "dog3 = Dog(\"pepsi\", 3.5, \"bulldog\")"
      ],
      "metadata": {
        "id": "kMCWjqzRB_Ea"
      },
      "execution_count": null,
      "outputs": []
    },
    {
      "cell_type": "code",
      "source": [
        "print(dog1.name, dog1.age, dog1.breed)"
      ],
      "metadata": {
        "colab": {
          "base_uri": "https://localhost:8080/"
        },
        "id": "m3yApJh7DEcP",
        "outputId": "45065236-8c37-4f8a-e96e-f45fb42022bb"
      },
      "execution_count": null,
      "outputs": [
        {
          "output_type": "stream",
          "name": "stdout",
          "text": [
            "ovaltine 4 chihuahua\n"
          ]
        }
      ]
    },
    {
      "cell_type": "code",
      "source": [
        "class Employee:\n",
        "    def __init__(self, id, name, dept, pos): #__ dunder\n",
        "        self.id = id #int initiate\n",
        "        self.name = name\n",
        "        self.dept = dept\n",
        "        self.pos = pos #position\n",
        "\n",
        "    def hello(self):\n",
        "        print(f\"Hello! my name is {self.name}\")\n",
        "\n",
        "    def work_hours(self, hours):\n",
        "        print(f\"{self.name} works for {hours} hours.\")\n",
        "\n",
        "    def change_dept(self, new_dept):\n",
        "        self.dept = new_dept\n",
        "        print(f\"{self.name} is now in {new_dept}\")"
      ],
      "metadata": {
        "id": "Wa6u3JR9DL-e"
      },
      "execution_count": null,
      "outputs": []
    },
    {
      "cell_type": "code",
      "source": [
        "emp1 = Employee(1, \"John\", \"Finance\", \"Analyst\")"
      ],
      "metadata": {
        "id": "zhQgafxuETfv"
      },
      "execution_count": null,
      "outputs": []
    },
    {
      "cell_type": "code",
      "source": [
        "print(emp1.name, emp1.pos)"
      ],
      "metadata": {
        "colab": {
          "base_uri": "https://localhost:8080/"
        },
        "id": "oSzfNx-BEc7x",
        "outputId": "0b1e230a-0ea9-4731-ff05-221879fe2a3e"
      },
      "execution_count": null,
      "outputs": [
        {
          "output_type": "stream",
          "name": "stdout",
          "text": [
            "John Analyst\n"
          ]
        }
      ]
    },
    {
      "cell_type": "code",
      "source": [
        "emp1.hello()"
      ],
      "metadata": {
        "colab": {
          "base_uri": "https://localhost:8080/"
        },
        "id": "0-Klm0IjEisK",
        "outputId": "abeeb5cf-7215-414f-ec52-5c7df3dfa48c"
      },
      "execution_count": null,
      "outputs": [
        {
          "output_type": "stream",
          "name": "stdout",
          "text": [
            "Hello! my name is John\n"
          ]
        }
      ]
    },
    {
      "cell_type": "code",
      "source": [
        "emp1.work_hours(10)"
      ],
      "metadata": {
        "colab": {
          "base_uri": "https://localhost:8080/"
        },
        "id": "oC_7-8kyElL5",
        "outputId": "5c50c2ed-1ca2-4133-e7de-a8b487c898ad"
      },
      "execution_count": null,
      "outputs": [
        {
          "output_type": "stream",
          "name": "stdout",
          "text": [
            "John works for 10 hours.\n"
          ]
        }
      ]
    },
    {
      "cell_type": "code",
      "source": [
        "emp1.change_dept(\"Data Science\")"
      ],
      "metadata": {
        "colab": {
          "base_uri": "https://localhost:8080/"
        },
        "id": "JVDBzXAGFQuE",
        "outputId": "1683fbc6-ccd4-4884-bda1-dabd694d886d"
      },
      "execution_count": null,
      "outputs": [
        {
          "output_type": "stream",
          "name": "stdout",
          "text": [
            "John is now in Data Science\n"
          ]
        }
      ]
    },
    {
      "cell_type": "code",
      "source": [
        "#object: attribute => name, id, pos\n",
        "#object: method => hello(), change_dept()"
      ],
      "metadata": {
        "id": "NiGtP_i4F261"
      },
      "execution_count": null,
      "outputs": []
    },
    {
      "cell_type": "code",
      "source": [
        "#HW03 - create new ATM class (5 methods)\n",
        "\n",
        "class ATM:\n",
        "    def __init__(self, name, bank, balance):\n",
        "        self.name = name\n",
        "        self.bank = bank\n",
        "        self.balance = balance\n",
        "    def deposit(self, amt):\n",
        "        self.balance += amt\n",
        "\n",
        "scb = ATM(\"toyeiei\", \"scb\", 500)\n",
        "print(scb.balance)\n",
        "\n",
        "scb.deposit(100)\n",
        "print(scb.balance)"
      ],
      "metadata": {
        "colab": {
          "base_uri": "https://localhost:8080/"
        },
        "id": "Fa6R97WhGXlj",
        "outputId": "64a23aab-d8b5-4685-ba24-cb23e2122846"
      },
      "execution_count": null,
      "outputs": [
        {
          "output_type": "stream",
          "name": "stdout",
          "text": [
            "500\n",
            "600\n"
          ]
        }
      ]
    },
    {
      "cell_type": "code",
      "source": [],
      "metadata": {
        "id": "-H6tfjybHJoP"
      },
      "execution_count": null,
      "outputs": []
    }
  ]
}