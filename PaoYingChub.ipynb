{
  "nbformat": 4,
  "nbformat_minor": 0,
  "metadata": {
    "colab": {
      "provenance": [],
      "authorship_tag": "ABX9TyOjQ0ntB5dKRqCiS8HAVP/H",
      "include_colab_link": true
    },
    "kernelspec": {
      "name": "python3",
      "display_name": "Python 3"
    },
    "language_info": {
      "name": "python"
    }
  },
  "cells": [
    {
      "cell_type": "markdown",
      "metadata": {
        "id": "view-in-github",
        "colab_type": "text"
      },
      "source": [
        "<a href=\"https://colab.research.google.com/github/cestsuperwin59/data-science-bootcamp/blob/main/PaoYingChub.ipynb\" target=\"_parent\"><img src=\"https://colab.research.google.com/assets/colab-badge.svg\" alt=\"Open In Colab\"/></a>"
      ]
    },
    {
      "cell_type": "code",
      "execution_count": null,
      "metadata": {
        "colab": {
          "base_uri": "https://localhost:8080/"
        },
        "id": "c4aXMVNbduEy",
        "outputId": "f2c29589-b9c4-4cbd-af85-224abe31c9c5"
      },
      "outputs": [
        {
          "output_type": "stream",
          "name": "stdout",
          "text": [
            "============================================================\n",
            "===============Welcome to Pao Ying Chub Game================\n",
            "==Choose one of 'ROCK','SCISSOR','PAPER' againt our hand====\n",
            "=========Instruction: type r, s, or p ======================\n",
            "============================================================\n",
            "Your turn: s\n",
            "PAOOO YINGGGGGGGG CHUB!!!!\n",
            "AI choose: p\n",
            "** Wow! you're lucky! **\n",
            "Try again? or exit?\n",
            "Your turn: s\n",
            "PAOOO YINGGGGGGGG CHUB!!!!\n",
            "AI choose: r\n",
            "Sorry! You lose this round.\n",
            "Try again? or exit?\n",
            "Your turn: s\n",
            "PAOOO YINGGGGGGGG CHUB!!!!\n",
            "AI choose: s\n",
            "Hmm draw again, I guess.\n",
            "Try again? or exit?\n",
            "Your turn: exit\n",
            "PAOOO YINGGGGGGGG CHUB!!!!\n",
            "============Thank you for coming! Bye Bye===============\n",
            "============Your Statistics=============================\n",
            "###Total roundsss: #### => 3 \n",
            "###You win: #### => 1 \n",
            "###Total Tie: #### => 1\n",
            "Your Win Rate: 50.0\n"
          ]
        }
      ],
      "source": [
        "import random\n",
        "\n",
        "def paoyingchub():\n",
        "    options = ['r','s','p']\n",
        "    rounds = 0\n",
        "    score = 0\n",
        "    tie = 0\n",
        "\n",
        "    print(\"============================================================\")\n",
        "    print(\"===============Welcome to Pao Ying Chub Game================\")\n",
        "    print(\"==Choose one of 'ROCK','SCISSOR','PAPER' againt our hand====\")\n",
        "    print(\"=========Instruction: type r, s, or p ======================\")\n",
        "    print(\"============================================================\")\n",
        "\n",
        "    while True:\n",
        "        user = input(\"Your turn: \")\n",
        "        com_hand = random.choice(options)\n",
        "        print(\"PAOOO YINGGGGGGGG CHUB!!!!\")\n",
        "\n",
        "        if user not in ['r','s','p','exit'] :\n",
        "            print(\"Please select only r, s, p\")\n",
        "        elif user == 'exit':\n",
        "            print(\"============Thank you for coming! Bye Bye===============\")\n",
        "            print(\"============Your Statistics=============================\")\n",
        "            print(f\"###Total roundsss: #### => {rounds} \\n###You win: #### => {score} \\n###Total Tie: #### => {tie}\")\n",
        "            if rounds > 0:\n",
        "                print(\"Your Win Rate:\",(score/(rounds-tie))*100)\n",
        "                break\n",
        "            else:\n",
        "                print(\"Your Win Rate: Unidentified! (Please played the game?)\")\n",
        "                break\n",
        "        else:\n",
        "            print(f\"AI choose: {com_hand}\")\n",
        "            if ((com_hand=='r' and user=='s') or (com_hand=='s' and user=='p') or (com_hand=='p' and user =='r')):\n",
        "                rounds += 1\n",
        "                print(\"Sorry! You lose this round.\")\n",
        "            elif com_hand == user:\n",
        "                rounds += 1\n",
        "                tie += 1\n",
        "                print(\"Hmm draw again, I guess.\")\n",
        "            else:\n",
        "                rounds += 1\n",
        "                score += 1\n",
        "                print(\"** Wow! you're lucky! **\")\n",
        "            print(\"Try again? or exit?\")\n",
        "\n",
        "paoyingchub()\n"
      ]
    },
    {
      "cell_type": "code",
      "source": [],
      "metadata": {
        "id": "P7gZ41Rm7fh9"
      },
      "execution_count": null,
      "outputs": []
    }
  ]
}