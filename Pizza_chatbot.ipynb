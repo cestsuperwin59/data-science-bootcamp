{
  "nbformat": 4,
  "nbformat_minor": 0,
  "metadata": {
    "colab": {
      "provenance": [],
      "authorship_tag": "ABX9TyN5HjqO43XlbBEeB5jhwfKn",
      "include_colab_link": true
    },
    "kernelspec": {
      "name": "python3",
      "display_name": "Python 3"
    },
    "language_info": {
      "name": "python"
    }
  },
  "cells": [
    {
      "cell_type": "markdown",
      "metadata": {
        "id": "view-in-github",
        "colab_type": "text"
      },
      "source": [
        "<a href=\"https://colab.research.google.com/github/cestsuperwin59/data-science-bootcamp/blob/main/Pizza_chatbot.ipynb\" target=\"_parent\"><img src=\"https://colab.research.google.com/assets/colab-badge.svg\" alt=\"Open In Colab\"/></a>"
      ]
    },
    {
      "cell_type": "code",
      "execution_count": null,
      "metadata": {
        "id": "gIspT0jtgSad"
      },
      "outputs": [],
      "source": [
        "#HW01 -chatbot to order pizza\n",
        "\n",
        "def chatbot():\n",
        "\n",
        "    print(\"###### Welcome to pizza's house bot #######\")\n",
        "    phone = input(\"##### What is your phone number? ####: \")\n",
        "    print(f\"****Ok, this is your number: {phone} ***** \")\n",
        "\n",
        "    menu = [\"pizza\", \"salad\", \"drinks\"]\n",
        "\n",
        "    print(f\"##### Here is what we have: {menu} #####\")\n",
        "\n",
        "    allorders =[]\n",
        "    while True:\n",
        "        order = input(\"*****What do you want to order?*****\\n##### Select pizza, salad or drinks#####\\n(type 'done' to exit):#### \")\n",
        "        if order == \"done\":\n",
        "            return print(f\"Here is your order: {allorders} \\nThank You for the order!\")\n",
        "        elif order == \"pizza\":\n",
        "            more = \"yes\"\n",
        "            while more == \"yes\":\n",
        "                size_pizza = input(\"please select size (s,m,l): \")\n",
        "                crust_pizza = input(\"Please select crust. (pan, thin) : \")\n",
        "                pizza_menu = input(\"Do you want magarita, seafoods, or pepperoni: \")\n",
        "                amount_pizza = input(\"How many pizza do you want? : \")\n",
        "                pizza_orders = f\"Order: {amount_pizza} of {pizza_menu}, {crust_pizza} crust, {size_pizza} size \"\n",
        "                allorders.append(pizza_orders)\n",
        "                more = input(\"Do you want to order more pizzas? (yes/no): \")\n",
        "            order = input(\"Anything else (salad or drinks)? type (yes,no): \")\n",
        "            if order == \"no\":\n",
        "                return print(f\"Here is your order: {allorders}\\nThank You for the order!\")\n",
        "\n",
        "        elif order == \"salad\":\n",
        "            more = \"yes\"\n",
        "            while more == \"yes\":\n",
        "                salad_type = input(\"please select caesar or mediteranean: \")\n",
        "                amount_salad = input(\"How many salad do you want: \")\n",
        "                salad_orders = f\"Here is your salad: {salad_type}, {amount_salad} salad bowls\"\n",
        "                allorders.append(salad_orders)\n",
        "                more = input(\"Do you want to order more salads? (yes/no): \")\n",
        "            order = input(\"Anything else (pizza or drinks)? type (yes,no): \")\n",
        "            if order ==\"no\":\n",
        "                return print(f\"Here is your order: {allorders}\\nThank You for the order!\")\n",
        "\n",
        "        elif order ==\"drinks\":\n",
        "            more = \"yes\"\n",
        "            while more == \"yes\":\n",
        "                type_drinks = input(\"We have 1.coke, 2.sprite, 3.beer. What do you want to drink?: \")\n",
        "                amount_drinks = input(\"How many of drinks do you need?: \")\n",
        "                drinks_orders =f\"OK, {amount_drinks} cans of {type_drinks}\"\n",
        "                allorders.append(drinks_orders)\n",
        "                more = input(\"Do you want to order more drinks? (yes/no): \")\n",
        "            order = input(\"Anything else (pizza or salad)? type (yes,no): \")\n",
        "            if order ==\"no\":\n",
        "                return print(f\"Here is your order: {allorders}\")\n",
        "        else: amount = input(f\"Here {allorders} is your order\\nThank You for the order! \")\n",
        "    allorders.append(f\"{order} for {amount}\")\n"
      ]
    },
    {
      "cell_type": "code",
      "source": [
        "chatbot()"
      ],
      "metadata": {
        "colab": {
          "base_uri": "https://localhost:8080/"
        },
        "id": "HvLZVRVok5Pf",
        "outputId": "60939387-bafd-4b47-e403-41dc45d46fa0"
      },
      "execution_count": null,
      "outputs": [
        {
          "output_type": "stream",
          "name": "stdout",
          "text": [
            "###### Welcome to pizza's house bot #######\n",
            "##### What is your phone number? ####: 2233\n",
            "****Ok, this is your number: 2233 ***** \n",
            "##### Here is what we have: ['pizza', 'salad', 'drinks'] #####\n",
            "*****What do you want to order?*****\n",
            "##### Select pizza, salad or drinks#####\n",
            "(type 'done' to exit):#### drinks\n",
            "We have 1.coke, 2.sprite, 3.beer. What do you want to drink?: coke\n",
            "How many of drinks do you need?: 2\n",
            "Do you want to order more drinks? (yes/no): yes\n",
            "We have 1.coke, 2.sprite, 3.beer. What do you want to drink?: sprite\n",
            "How many of drinks do you need?: 2\n",
            "Do you want to order more drinks? (yes/no): no\n",
            "Anything else (pizza or salad)? type (yes,no): no\n",
            "Here is your order: ['OK, 2 cans of coke', 'OK, 2 cans of sprite']\n"
          ]
        }
      ]
    },
    {
      "cell_type": "code",
      "source": [],
      "metadata": {
        "id": "OlwDdZG580sP"
      },
      "execution_count": null,
      "outputs": []
    }
  ]
}