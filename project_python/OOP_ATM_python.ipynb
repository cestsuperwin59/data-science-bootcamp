{
  "nbformat": 4,
  "nbformat_minor": 0,
  "metadata": {
    "colab": {
      "provenance": [],
      "authorship_tag": "ABX9TyN0cmoNN+JdagmRr37SC9S7",
      "include_colab_link": true
    },
    "kernelspec": {
      "name": "python3",
      "display_name": "Python 3"
    },
    "language_info": {
      "name": "python"
    }
  },
  "cells": [
    {
      "cell_type": "markdown",
      "metadata": {
        "id": "view-in-github",
        "colab_type": "text"
      },
      "source": [
        "<a href=\"https://colab.research.google.com/github/cestsuperwin59/data-science-bootcamp/blob/main/ATM_python.ipynb\" target=\"_parent\"><img src=\"https://colab.research.google.com/assets/colab-badge.svg\" alt=\"Open In Colab\"/></a>"
      ]
    },
    {
      "cell_type": "code",
      "execution_count": null,
      "metadata": {
        "id": "EgbddbyyWMVZ"
      },
      "outputs": [],
      "source": [
        "#create new ATM class (5 classes)"
      ]
    },
    {
      "cell_type": "code",
      "source": [
        "class ATM:\n",
        "    def __init__(self, name, bank, accid, balance):\n",
        "        self.name = name\n",
        "        self.bank = bank\n",
        "        self.accid = accid\n",
        "        self.balance = balance\n",
        "\n",
        "    def greeting(self):\n",
        "        print(f\"Hello! {self.name}, Welcome to OBS Bank\")\n",
        "        print(\" \")\n",
        "        print(\"Please select amount or transaction\")\n",
        "\n",
        "    def account(self):\n",
        "        print(f\"Your account number is {self.accid}\")\n",
        "        print(\"\")\n",
        "        print(\"Would you like to do more transactions? \")\n",
        "\n",
        "    def deposit(self, amt):\n",
        "        self.balance += amt\n",
        "\n",
        "    def withdraw(self, amt):\n",
        "        self.balance -= amt\n",
        "\n",
        "    def exit(self):\n",
        "        print(f\"{self.name}, Thank you very much!\")\n",
        "\n",
        "    def statement(self):\n",
        "        print(f\"Your account name : {self.name}\")\n",
        "        print(\"\")\n",
        "        print(f\"Your account no.: {self.accid} \")\n",
        "        print(\"\")\n",
        "        print(f\"current balance : {self.balance}\")\n"
      ],
      "metadata": {
        "id": "Pl6g_b3uWeAN"
      },
      "execution_count": null,
      "outputs": []
    },
    {
      "cell_type": "code",
      "source": [
        "#account in database\n",
        "obs = ATM(\"Win\", \"OBS\", 559955, 500000)\n",
        "obs2 = ATM(\"Tip\", \"OBS\", 449955, 500000)\n",
        "\n",
        "print(obs.balance)\n"
      ],
      "metadata": {
        "colab": {
          "base_uri": "https://localhost:8080/"
        },
        "id": "vvc5ANThZuos",
        "outputId": "8aa42970-d54e-4ad1-ad3b-9b84757aaede"
      },
      "execution_count": null,
      "outputs": [
        {
          "output_type": "stream",
          "name": "stdout",
          "text": [
            "500000\n"
          ]
        }
      ]
    },
    {
      "cell_type": "code",
      "source": [
        "#check statement\n",
        "obs.statement()"
      ],
      "metadata": {
        "colab": {
          "base_uri": "https://localhost:8080/"
        },
        "id": "fwsVsHr9aOJB",
        "outputId": "84c2483b-27d3-4358-c06d-1336f3b372ec"
      },
      "execution_count": null,
      "outputs": [
        {
          "output_type": "stream",
          "name": "stdout",
          "text": [
            "Your account name : Win\n",
            "\n",
            "Your account no.: 559955 \n",
            "\n",
            "current balance : 500000\n"
          ]
        }
      ]
    },
    {
      "cell_type": "code",
      "source": [
        "obs.deposit(5000)\n",
        "\n",
        "obs.withdraw(50)\n",
        "\n",
        "obs.statement()\n"
      ],
      "metadata": {
        "colab": {
          "base_uri": "https://localhost:8080/"
        },
        "id": "NP94tpGRayu0",
        "outputId": "092c70a9-645f-4e8f-ab37-9e7970e02a32"
      },
      "execution_count": null,
      "outputs": [
        {
          "output_type": "stream",
          "name": "stdout",
          "text": [
            "Your account name : Win\n",
            "\n",
            "Your account no.: 559955 \n",
            "\n",
            "current balance : 504950\n"
          ]
        }
      ]
    }
  ]
}
